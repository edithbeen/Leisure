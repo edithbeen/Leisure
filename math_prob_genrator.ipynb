{
 "cells": [
  {
   "cell_type": "code",
   "execution_count": 127,
   "metadata": {},
   "outputs": [],
   "source": [
    "import random as rd\n",
    "import numpy as np\n",
    "import math\n",
    "\n",
    "def rd_gen_single(upper = 100):\n",
    "    r = rd.random()\n",
    "    d1 = rd.sample([1, 1, 1, 2, 2], 1)[0]\n",
    "    d2 = rd.sample([2, 2, 3, 3, 3], 1)[0]\n",
    "    r_out = round(r*math.pow(10, d1), d2)\n",
    "    while(r_out >= upper):\n",
    "        r = rd.random()\n",
    "        d1 = rd.sample([1, 1, 2], 1)[0]\n",
    "        d2 = rd.sample([2, 3, 3], 1)[0]\n",
    "        r_out = round(r*math.pow(10, d1), d2)\n",
    "    return(r_out)\n",
    "\n",
    "def eq_gen(n):\n",
    "    r1 = rd_gen_single()\n",
    "    r2 = rd_gen_single()\n",
    "    sign = rd.sample([0, 1, 1], 1)[0]\n",
    "    l = []\n",
    "    text = ''\n",
    "    if (sign == 1):\n",
    "        if (r1 >= r2):\n",
    "            l += [r1, -r2]\n",
    "            text = str(r1) + ' - ' + str(r2)\n",
    "        else:\n",
    "            l += [r2, -r1]\n",
    "            text = str(r2) + ' - ' + str(r1)\n",
    "    else:\n",
    "        l += [r1, r2]\n",
    "        text = str(r1) + ' + ' + str(r2)\n",
    "    while (n > 2):\n",
    "        sign = rd.randint(0, 1)\n",
    "        if sum(l) <= 1 or sign == 0:\n",
    "            r3 = rd_gen_single()\n",
    "            l += [r3]\n",
    "            text += ' + ' + str(r3)\n",
    "        else:\n",
    "            r3 = rd_gen_single(upper = sum(l))\n",
    "            l += [-r3]\n",
    "            text += ' - ' + str(r3)\n",
    "        n = n - 1\n",
    "    text += ' = '\n",
    "    print(text)\n",
    "    return(text)\n",
    "\n",
    "def eqs_print(n_eq, n_num):\n",
    "    l_eq = []\n",
    "    while (n_eq > 0):\n",
    "        l_eq += [eq_gen(n_num)]\n",
    "        n_eq = n_eq - 1\n",
    "    return(l_eq)\n",
    "\n",
    "eqs_print(20, 3)"
   ]
  },
  {
   "cell_type": "code",
   "execution_count": null,
   "metadata": {},
   "outputs": [],
   "source": []
  }
 ],
 "metadata": {
  "kernelspec": {
   "display_name": "dl",
   "language": "python",
   "name": "dl"
  },
  "language_info": {
   "codemirror_mode": {
    "name": "ipython",
    "version": 3
   },
   "file_extension": ".py",
   "mimetype": "text/x-python",
   "name": "python",
   "nbconvert_exporter": "python",
   "pygments_lexer": "ipython3",
   "version": "3.6.4"
  }
 },
 "nbformat": 4,
 "nbformat_minor": 4
}
