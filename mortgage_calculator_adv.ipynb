{
 "cells": [
  {
   "cell_type": "code",
   "execution_count": null,
   "metadata": {},
   "outputs": [],
   "source": [
    "# amount: load amount\n",
    "# mp: monthly payment\n",
    "# years: loan term in years\n",
    "# rate: load rate\n",
    "# i: inflation rate -- an estimated value\n",
    "# paid years: years of paid loan\n",
    "# current cost: cost occur now, mostly the currrent refinance cost\n",
    "# future cost: cost may occur in the future, mostly the future refi cost\n",
    "\n",
    "# in general, you want to evaluate the loan's future value or present value at the certain paidoff point. \n",
    "# I used 10 paid years to be my paidoff point at that is the time I need to evaluate my loan after this refi"
   ]
  },
  {
   "cell_type": "code",
   "execution_count": 37,
   "metadata": {},
   "outputs": [],
   "source": [
    "def mp_cal(amount, years, rate):\n",
    "# calculate the monthly payment based on the loan amount, years of loan and interest rate\n",
    "    r = float(rate)/100/12\n",
    "    mp = amount*r*((1+r)**(years*12))/((1+r)**(years*12) -1)\n",
    "    return(mp)\n",
    "\n",
    "def rm_cal(amount, years, rate, paid_years):\n",
    "# calculate the remaining loan after years of monthly payment\n",
    "    r = float(rate)/100/12\n",
    "    rm = amount*((1+r)**(years*12) - (1+r)**(paid_years*12))/((1+r)**(years*12) -1)\n",
    "    return(rm)\n",
    "\n",
    "def pv(amount, years, i):\n",
    "# calculate the present value of a certain amount from a certain year to now\n",
    "    r = float(i)/100/12\n",
    "    return(amount/((1+r)**(years*12)))\n",
    "def pv_monthly(mp, years, i):\n",
    "# calculate the present value of monthly paytment from a certain year to now\n",
    "    r = float(i)/100/12\n",
    "    return(mp*((1+r)**(years*12) -1)/(r*((1+r)**(years*12))))\n",
    "def fv(amount, years, i):\n",
    "# calculate the future value of a certain amount from now to a certain year\n",
    "    r = float(i)/100/12\n",
    "    return(amount*((1+r)**(years*12)))\n",
    "\n",
    "def fv_monthly(mp, years, i):\n",
    "# calculatre the future value of monthly payment from now to a certain year\n",
    "    r = float(i)/100/12\n",
    "    return(mp/r*((1+r)**(years*12) - 1))\n",
    "\n",
    "def cal_fv_comp(amount, years, rate, i, paid_years, future_cost=0):\n",
    "    mp = mp_cal(amount, years, rate)\n",
    "    rm = rm_cal(amount, years, rate, paid_years)\n",
    "    fv_mp = fv_monthly(mp, paid_years, i)\n",
    "    return(rm + fv_mp + future_cost)\n",
    "\n",
    "def cal_pv_comp(amount, years, rate, i, paid_years, future_cost=0, current_cost=0):\n",
    "    return(pv(cal_fv_comp(amount, years, rate, i, paid_years, future_cost=future_cost), paid_years, i) + current_cost)"
   ]
  },
  {
   "cell_type": "code",
   "execution_count": 42,
   "metadata": {},
   "outputs": [
    {
     "name": "stdout",
     "output_type": "stream",
     "text": [
      "880189.8612455814\n",
      "860270.9603158976\n",
      "860176.6012019612\n"
     ]
    }
   ],
   "source": [
    "# Senario I: compare the pv of the loan at a 10 year point\n",
    "# option 1: 30 year fixed, rate 3.25%\n",
    "print(cal_pv_comp(1000000, 30, 3.25, 5, 10, current_cost = 4000))\n",
    "# option 2: 10/1 ARM, rate 3%\n",
    "print(cal_pv_comp(1000000, 30, 3, 5, 10, future_cost = 2000))\n",
    "# option 3: 20 year fixed, rate 2.75%\n",
    "print(cal_pv_comp(1000000, 20, 2.75, 5, 10, current_cost = 4000))"
   ]
  },
  {
   "cell_type": "code",
   "execution_count": 43,
   "metadata": {
    "scrolled": true
   },
   "outputs": [
    {
     "name": "stdout",
     "output_type": "stream",
     "text": [
      "863056.6382352995\n",
      "847290.630985926\n",
      "844892.4079735352\n"
     ]
    }
   ],
   "source": [
    "# Senario II: compare the pv of the loan at a 10 year point\n",
    "# option 1: 30 year fixed, rate 3%\n",
    "print(cal_pv_comp(1000000, 30, 3, 5, 10, current_cost=4000))\n",
    "# option 2: 10/1 ARM, rate 2.75%\n",
    "print(cal_pv_comp(1000000, 30, 2.75, 5, 10, future_cost = 2000, current_cost=4000))\n",
    "# option 3: 20 year fixed, rate 2.5%\n",
    "print(cal_pv_comp(1000000, 20, 2.5, 5, 10, current_cost=4000))"
   ]
  },
  {
   "cell_type": "code",
   "execution_count": null,
   "metadata": {},
   "outputs": [],
   "source": []
  }
 ],
 "metadata": {
  "kernelspec": {
   "display_name": "dl",
   "language": "python",
   "name": "dl"
  },
  "language_info": {
   "codemirror_mode": {
    "name": "ipython",
    "version": 3
   },
   "file_extension": ".py",
   "mimetype": "text/x-python",
   "name": "python",
   "nbconvert_exporter": "python",
   "pygments_lexer": "ipython3",
   "version": "3.6.4"
  }
 },
 "nbformat": 4,
 "nbformat_minor": 4
}
